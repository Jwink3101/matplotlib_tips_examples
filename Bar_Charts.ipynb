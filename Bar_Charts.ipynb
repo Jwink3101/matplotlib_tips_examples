{
 "cells": [
  {
   "cell_type": "markdown",
   "metadata": {},
   "source": [
    "# Bar Charts"
   ]
  },
  {
   "cell_type": "code",
   "execution_count": 1,
   "metadata": {},
   "outputs": [
    {
     "name": "stdout",
     "output_type": "stream",
     "text": [
      "Matplotlib Version: 3.1.1\n",
      "NumPy Version: 1.17.3+intel.0\n",
      "Python Version: 3.7.5 (default, Oct 25 2019, 10:52:18) \n",
      "[Clang 4.0.1 (tags/RELEASE_401/final)]\n",
      "Ran on 2019-12-06T16:12:49.040422\n"
     ]
    }
   ],
   "source": [
    "import numpy as np\n",
    "import matplotlib as mpl\n",
    "import matplotlib.pylab as plt\n",
    "%matplotlib inline \n",
    "\n",
    "import sys\n",
    "\n",
    "print('Matplotlib Version: ' + mpl.__version__)\n",
    "print('NumPy Version: ' + np.version.full_version)\n",
    "print('Python Version: ' + sys.version)\n",
    "\n",
    "import datetime\n",
    "now  = datetime.datetime.now().isoformat()\n",
    "print('Ran on ' + now)"
   ]
  },
  {
   "cell_type": "code",
   "execution_count": 2,
   "metadata": {},
   "outputs": [
    {
     "data": {
      "text/plain": [
       "<matplotlib.legend.Legend at 0x119eac0d0>"
      ]
     },
     "execution_count": 2,
     "metadata": {},
     "output_type": "execute_result"
    },
    {
     "data": {
      "image/png": "[encoded data removed]",
      "text/plain": [
       "<Figure size 600x300 with 1 Axes>"
      ]
     },
     "metadata": {
      "needs_background": "light"
     },
     "output_type": "display_data"
    }
   ],
   "source": [
    "fig,ax = plt.subplots(1,1,figsize=(6,3),dpi=100,num=1)\n",
    "\n",
    "Nbins = 5\n",
    "Nbars = 4 # Number of bars (items) per bin\n",
    "\n",
    "width = 1.0 /(Nbars+2)\n",
    "ind = np.arange(Nbins)\n",
    "\n",
    "# generate random data for now\n",
    "np.random.seed(44328)\n",
    "Data = [np.random.uniform(size=Nbins) for i in range(Nbars)] # (Nbars, Nbins)\n",
    "labels = ['x','y','z','w']\n",
    "\n",
    "for ii,dat_item in enumerate(Data):\n",
    "    ax.bar(ind + (ii+1)*width,dat_item,width,label=labels[ii])\n",
    "\n",
    "ax.set_xticks(ind + 2.0 /(Nbins + (1 if Nbars == 1 else 0)))\n",
    "ax.set_xticklabels(['a','b','c','d','e'])\n",
    "ax.legend(loc=2,ncol=2)    \n",
    "    "
   ]
  },
  {
   "cell_type": "code",
   "execution_count": 3,
   "metadata": {},
   "outputs": [
    {
     "data": {
      "text/plain": [
       "<matplotlib.legend.Legend at 0x10a839c50>"
      ]
     },
     "execution_count": 3,
     "metadata": {},
     "output_type": "execute_result"
    },
    {
     "data": {
      "image/png": "[encoded data removed]",
      "text/plain": [
       "<Figure size 600x300 with 1 Axes>"
      ]
     },
     "metadata": {
      "needs_background": "light"
     },
     "output_type": "display_data"
    }
   ],
   "source": [
    "fig,ax = plt.subplots(1,1,figsize=(6,3),dpi=100,num=1)\n",
    "\n",
    "Nbins = 5\n",
    "Nbars = 2 # Number of bars (items) per bin\n",
    "\n",
    "width = 1.0 /(Nbars+2)\n",
    "ind = np.arange(Nbins)\n",
    "\n",
    "# generate random data for now\n",
    "np.random.seed(44328)\n",
    "DataA = [np.random.uniform(size=Nbins) for i in range(Nbars)] # (Nbars, Nbins)\n",
    "DataB = [np.random.uniform(size=Nbins) for i in range(Nbars)] # (Nbars, Nbins)\n",
    "\n",
    "labels = ['x','y']\n",
    "\n",
    "for ii,(datA,datB) in enumerate(zip(DataA,DataB)):\n",
    "    ax.bar(ind + (ii+1)*width,datA,width,label=labels[ii] + '_A')\n",
    "    ax.bar(ind + (ii+1)*width,datB,width,bottom=datA,label=labels[ii] + '_B')\n",
    "    \n",
    "ax.set_xticks(ind + 2.0 /(Nbins + (1 if Nbars == 1 else 0)))\n",
    "ax.set_xticklabels(['a','b','c','d','e'])\n",
    "ax.legend(loc='best',ncol=2) "
   ]
  },
  {
   "cell_type": "code",
   "execution_count": null,
   "metadata": {},
   "outputs": [],
   "source": []
  }
 ],
 "metadata": {
  "kernelspec": {
   "display_name": "Python 3",
   "language": "python",
   "name": "python3"
  },
  "language_info": {
   "codemirror_mode": {
    "name": "ipython",
    "version": 3
   },
   "file_extension": ".py",
   "mimetype": "text/x-python",
   "name": "python",
   "nbconvert_exporter": "python",
   "pygments_lexer": "ipython3",
   "version": "3.7.5"
  }
 },
 "nbformat": 4,
 "nbformat_minor": 2
}
