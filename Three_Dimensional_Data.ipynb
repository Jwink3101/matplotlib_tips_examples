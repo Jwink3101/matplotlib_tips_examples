{
 "cells": [
  {
   "cell_type": "markdown",
   "metadata": {},
   "source": [
    "# Three Dimensional Data"
   ]
  },
  {
   "cell_type": "code",
   "execution_count": null,
   "metadata": {},
   "outputs": [],
   "source": [
    "import numpy as np\n",
    "import matplotlib as mpl\n",
    "import matplotlib.pylab as plt\n",
    "%matplotlib inline \n",
    "\n",
    "import sys\n",
    "\n",
    "print('Matplotlib Version: ' + mpl.__version__)\n",
    "print('NumPy Version: ' + np.version.full_version)\n",
    "print('Python Version: ' + sys.version)\n",
    "\n",
    "import datetime\n",
    "now  = datetime.datetime.now().isoformat()\n",
    "print('Ran on ' + now)"
   ]
  },
  {
   "cell_type": "code",
   "execution_count": null,
   "metadata": {},
   "outputs": [],
   "source": [
    "X1,X2 = np.meshgrid(*[np.linspace(-1,1,100)]*2)\n",
    "\n",
    "F = (1.0 + (1.0/3.0)/(2.0 * X1 + X2 + 7.0/2.0) ) * np.exp(- (0.5 * (X2-1.0/5.0) * (X1 + 1.0))**2)\n",
    "\n",
    "def _set_axis(ax,z=True):\n",
    "    r =0.01\n",
    "    if z:\n",
    "        ax.set_zlim([0.25, 1.67])\n",
    "    ax.set_xlim([-1-2*r, 1+2*r])\n",
    "    ax.set_ylim([-1-2*r, 1+2*r])\n",
    "    ax.set_xlabel('x1');ax.set_ylabel('x2')\n",
    "    #ax.set_aspect('equal')"
   ]
  },
  {
   "cell_type": "markdown",
   "metadata": {},
   "source": [
    "## 2D Plots"
   ]
  },
  {
   "cell_type": "markdown",
   "metadata": {},
   "source": [
    "### Countour\n",
    "\n",
    "\n",
    "`contourf` does *not* include the lines so it is helpful to set them yourself.\n"
   ]
  },
  {
   "cell_type": "code",
   "execution_count": null,
   "metadata": {},
   "outputs": [],
   "source": [
    "fig,axes = plt.subplots(2,2,figsize=(9,7))\n",
    "\n",
    "axes[0,0].contour(X1,X2,F,35)\n",
    "axes[0,0].set_title('Defaults + N=35')\n",
    "\n",
    "axes[0,1].contourf(X1,X2,F,35)\n",
    "axes[0,1].set_title('Defaults filled + N=35')\n",
    "\n",
    "axes[1,0].contourf(X1,X2,F,35)\n",
    "axes[1,0].contour(X1,X2,F,35,colors='k',linewidths =0.5 )\n",
    "axes[1,0].set_title('Filled + lines + N=35')\n",
    "\n",
    "axes[1,1].contourf(X1,X2,F,35,cmap=plt.cm.Greys)\n",
    "axes[1,1].contour(X1,X2,F,35,colors='k',linewidths =0.5 )\n",
    "axes[1,1].set_title('Filled + lines + N=35, greys')\n",
    "\n",
    "for ax in axes.ravel():\n",
    "    _set_axis(ax,z=False)\n",
    "\n",
    "fig.tight_layout()"
   ]
  },
  {
   "cell_type": "markdown",
   "metadata": {},
   "source": [
    "### Pseudocolors (and Pseudocolors with Contours)\n",
    "\n",
    "To demonstrate this better, we will use fewer bins. Also pay careful attention to how things are cut off"
   ]
  },
  {
   "cell_type": "code",
   "execution_count": null,
   "metadata": {},
   "outputs": [],
   "source": [
    "x12E = np.linspace(-1,1,16) # edges\n",
    "x12C = 0.5 * (x12E[1:] + x12E[:-1])\n",
    "x1E,x2E = np.meshgrid(x12E,x12E) # 16 edges\n",
    "x1C,x2C = np.meshgrid(x12C,x12C) # 15 centers\n",
    "\n",
    "f = (1.0 + (1.0/3.0)/(2.0 * x1C + x2C + 7.0/2.0) ) * np.exp(- (0.5 * (x2C-1.0/5.0) * (x1C + 1.0))**2)\n"
   ]
  },
  {
   "cell_type": "code",
   "execution_count": null,
   "metadata": {},
   "outputs": [],
   "source": [
    "fig,axes = plt.subplots(2,3,figsize=(9,7))\n",
    "\n",
    "cmap = plt.cm.BuPu\n",
    "levels = 20\n",
    "\n",
    "axes[0,0].pcolormesh(x1C,x2C,f,cmap=cmap)\n",
    "axes[0,0].set_title('Plot at centers')\n",
    "\n",
    "axes[0,1].pcolormesh(x1E,x2E,f,cmap=cmap)\n",
    "axes[0,1].set_title('Plot at edges')\n",
    "\n",
    "axes[0,2].pcolormesh(x1C,x2C,f,cmap=cmap,shading='gouraud')\n",
    "axes[0,2].set_title('Plot at centers\\n(only option for gouraud)')\n",
    "\n",
    "axes[1,0].contourf(x1C,x2C,f,levels,cmap=cmap)\n",
    "axes[1,0].contour(x1C,x2C,f,levels,colors='k',linewidths =0.5 )\n",
    "axes[1,0].set_title('Filled + lines')\n",
    "\n",
    "axes[1,1].pcolormesh(x1C,x2C,f,cmap=cmap,shading='gouraud')\n",
    "axes[1,1].contour(x1C,x2C,f,levels,colors='k',linewidths =0.5 )\n",
    "axes[1,1].set_title('Shaded + lines\\ngouraud')\n",
    "\n",
    "axes[1,2].pcolormesh(x1C,x2C,f,cmap=cmap,shading='flat')\n",
    "axes[1,2].contour(x1C,x2C,f,levels,colors='k',linewidths =0.5 )\n",
    "axes[1,2].set_title('Shaded + lines')\n",
    "\n",
    "for ax in axes.ravel():\n",
    "    _set_axis(ax,z=False)\n",
    "fig.tight_layout()  "
   ]
  },
  {
   "cell_type": "markdown",
   "metadata": {},
   "source": [
    "The contours on the plot above look bad because they have such low resolution! It can be done on the higher resoloution data too"
   ]
  },
  {
   "cell_type": "code",
   "execution_count": null,
   "metadata": {},
   "outputs": [],
   "source": [
    "fig,ax = plt.subplots()\n",
    "\n",
    "ax.pcolormesh(x1E,x2E,f,cmap=cmap,shading='flat')\n",
    "ax.contour(X1,X2,F,35,colors='k',linewidths =0.5 )\n",
    "ax.set_title('Shaded + high-res lines');"
   ]
  },
  {
   "cell_type": "code",
   "execution_count": null,
   "metadata": {},
   "outputs": [],
   "source": []
  },
  {
   "cell_type": "markdown",
   "metadata": {},
   "source": [
    "This is personal preference but I actually really like the look of shaded and lines. You get the advantages of the pseudocolor and contours"
   ]
  },
  {
   "cell_type": "markdown",
   "metadata": {},
   "source": [
    "## 3D Plots\n",
    "\n",
    "### Difference from Matlab\n",
    "\n",
    "Unlike Matlab, there is nothing wrong with setting your grid with a lot of points. You then use `cstride` and `rstride` to control that. In this example, I set with 100 points but use `cstride=4` to only plot a line every 4 spaces and `rstride=3` to plot a line every 3 in the other direction\n",
    "\n",
    "### Important\n",
    "\n",
    "You must have the following. Also, you will see that you build the axis differently"
   ]
  },
  {
   "cell_type": "code",
   "execution_count": null,
   "metadata": {},
   "outputs": [],
   "source": [
    "from mpl_toolkits.mplot3d import Axes3D"
   ]
  },
  {
   "cell_type": "markdown",
   "metadata": {},
   "source": [
    "### Surface"
   ]
  },
  {
   "cell_type": "code",
   "execution_count": null,
   "metadata": {},
   "outputs": [],
   "source": [
    "fig = plt.figure(num=1)\n",
    "ax = fig.add_subplot(111,projection='3d')\n",
    "SF = ax.plot_surface(X1,X2,F,rstride=4,cstride=3,cmap=plt.cm.Spectral_r)\n",
    "_set_axis(ax)"
   ]
  },
  {
   "cell_type": "code",
   "execution_count": null,
   "metadata": {},
   "outputs": [],
   "source": [
    "fig = plt.figure(num=1)\n",
    "ax = fig.add_subplot(111,projection='3d')\n",
    "SF = ax.plot_surface(X1,X2,F,rstride=4,cstride=3,cmap=plt.cm.Spectral_r,\n",
    "                     linewidth=0.5, edgecolors='k')\n",
    "_set_axis(ax)"
   ]
  },
  {
   "cell_type": "markdown",
   "metadata": {},
   "source": [
    "### Wiremesh"
   ]
  },
  {
   "cell_type": "code",
   "execution_count": null,
   "metadata": {},
   "outputs": [],
   "source": [
    "fig = plt.figure(num=1)\n",
    "ax = fig.add_subplot(111,projection='3d')\n",
    "SF = ax.plot_wireframe(X1,X2,F,rstride=4,cstride=3,color='k')\n",
    "_set_axis(ax)"
   ]
  },
  {
   "cell_type": "markdown",
   "metadata": {},
   "source": [
    "### White panes"
   ]
  },
  {
   "cell_type": "code",
   "execution_count": null,
   "metadata": {},
   "outputs": [],
   "source": [
    "fig = plt.figure(num=1)\n",
    "ax = fig.add_subplot(111,projection='3d')\n",
    "SF = ax.plot_surface(X1,X2,F,rstride=4,cstride=3,cmap=plt.cm.Spectral_r,\n",
    "                     linewidth=0.5, edgecolors='k')\n",
    "_set_axis(ax)\n",
    "\n",
    "# White edges\n",
    "ax.w_xaxis.set_pane_color((1.0, 1.0, 1.0, 0.0)) \n",
    "ax.w_yaxis.set_pane_color((1.0, 1.0, 1.0, 0.0)) \n",
    "ax.w_zaxis.set_pane_color((1.0, 1.0, 1.0, 0.0)) "
   ]
  },
  {
   "cell_type": "markdown",
   "metadata": {},
   "source": [
    "### Surface and contour"
   ]
  },
  {
   "cell_type": "code",
   "execution_count": null,
   "metadata": {},
   "outputs": [],
   "source": [
    "cmap=plt.cm.Spectral_r\n",
    "fig = plt.figure(num=1)\n",
    "ax = fig.add_subplot(111,projection='3d')\n",
    "SF = ax.plot_surface(X1,X2,F,rstride=4,cstride=3,cmap=cmap,edgecolors='k',linewidth=0.5)\n",
    "CS = ax.contour(X1,X2,F,25,zdir='z',offset=0.25, colors='k')\n",
    "\n",
    "# Colorbar\n",
    "m = plt.cm.ScalarMappable(cmap=cmap)\n",
    "m.set_array(F)\n",
    "fig.colorbar(m)\n",
    "\n",
    "ax.w_xaxis.set_pane_color((1.0, 1.0, 1.0, 0.0)) \n",
    "ax.w_yaxis.set_pane_color((1.0, 1.0, 1.0, 0.0)) \n",
    "ax.w_zaxis.set_pane_color((1.0, 1.0, 1.0, 0.0)) \n",
    "\n",
    "_set_axis(ax)\n",
    "fig.tight_layout()"
   ]
  },
  {
   "cell_type": "markdown",
   "metadata": {},
   "source": [
    "### Rotate & Zoom\n",
    "\n",
    "Zoom is useful when labels sometimes get cut off\n",
    "\n",
    "See below too for how to do this interactivly in a notebook"
   ]
  },
  {
   "cell_type": "code",
   "execution_count": null,
   "metadata": {},
   "outputs": [],
   "source": [
    "fig = plt.figure(num=1)\n",
    "ax = fig.add_subplot(111,projection='3d')\n",
    "SF = ax.plot_surface(X1,X2,F,rstride=4,cstride=3,cmap=plt.cm.Spectral_r,\n",
    "                     linewidth=0.5, edgecolors='k')\n",
    "\n",
    "_set_axis(ax)\n",
    "#ax.set(xlabel='xlabel',ylabel='ylabel',zlabel='zlabel') # Set them all fast but no padding\n",
    "ax.set_xlabel('xlabel',labelpad=15)\n",
    "ax.set_ylabel('ylabel',labelpad=15)\n",
    "ax.set_zlabel('zlabel',labelpad=15)\n",
    "\n",
    "# Rotate\n",
    "ax.view_init(35,49)\n",
    "\n",
    "# Distance\n",
    "ax.dist = 13"
   ]
  },
  {
   "cell_type": "markdown",
   "metadata": {},
   "source": [
    "### Surface from scattered data"
   ]
  },
  {
   "cell_type": "code",
   "execution_count": null,
   "metadata": {},
   "outputs": [],
   "source": [
    "fig = plt.figure(num=1)\n",
    "ax = fig.add_subplot(111,projection='3d')\n",
    "\n",
    "np.random.seed(121)\n",
    "X = 2*np.random.uniform(size=(100,2)) - 1\n",
    "FX = (1.0 + (1.0/3.0)/(2.0 * X[:,0] + X[:,1] + 7.0/2.0) ) * \\\n",
    "    np.exp(- (0.5 * (X[:,1]-1.0/5.0) * (X[:,0] + 1.0))**2)\n",
    "\n",
    "ax.plot_trisurf(X[:,0],X[:,1],FX,cmap=plt.cm.Spectral,edgecolors='k',linewidths=0.25)\n",
    "\n",
    "# Rotate\n",
    "ax.view_init(35,49)\n",
    "\n",
    "# Distance\n",
    "ax.dist = 13"
   ]
  },
  {
   "cell_type": "markdown",
   "metadata": {},
   "source": [
    "### Interactive\n",
    "\n",
    "This shows how to do the plots interactive by changing \n",
    "\n",
    "    %matplotlib inline\n",
    "   \n",
    "to\n",
    "\n",
    "    %matplotlib qt\n",
    "\n",
    "But it is to be commented out in the main one.\n",
    "\n",
    "It may need to be run twice... Not sure why"
   ]
  },
  {
   "cell_type": "code",
   "execution_count": null,
   "metadata": {},
   "outputs": [],
   "source": [
    "#%matplotlib qt\n",
    "#%matplotlib inline\n",
    "fig = plt.figure(num=1)\n",
    "ax = fig.add_subplot(111,projection='3d')\n",
    "SF = ax.plot_wireframe(X1,X2,F,rstride=4,cstride=3,color='k')\n",
    "_set_axis(ax)"
   ]
  },
  {
   "cell_type": "code",
   "execution_count": null,
   "metadata": {},
   "outputs": [],
   "source": []
  },
  {
   "cell_type": "code",
   "execution_count": null,
   "metadata": {},
   "outputs": [],
   "source": []
  }
 ],
 "metadata": {
  "kernelspec": {
   "display_name": "Python 3",
   "language": "python",
   "name": "python3"
  },
  "language_info": {
   "codemirror_mode": {
    "name": "ipython",
    "version": 3
   },
   "file_extension": ".py",
   "mimetype": "text/x-python",
   "name": "python",
   "nbconvert_exporter": "python",
   "pygments_lexer": "ipython3",
   "version": "3.7.6"
  }
 },
 "nbformat": 4,
 "nbformat_minor": 2
}
